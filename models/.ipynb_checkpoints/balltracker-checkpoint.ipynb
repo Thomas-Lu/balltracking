{
 "cells": [
  {
   "cell_type": "code",
   "execution_count": 31,
   "metadata": {},
   "outputs": [],
   "source": [
    "%matplotlib inline"
   ]
  },
  {
   "cell_type": "code",
   "execution_count": 2,
   "metadata": {},
   "outputs": [],
   "source": [
    "import os\n",
    "import sys"
   ]
  },
  {
   "cell_type": "code",
   "execution_count": 3,
   "metadata": {},
   "outputs": [],
   "source": [
    "lmu_path = os.path.abspath(\"../lmu\")\n",
    "sys.path.append(lmu_path)\n"
   ]
  },
  {
   "cell_type": "code",
   "execution_count": 74,
   "metadata": {},
   "outputs": [],
   "source": [
    "from lmu import LMUCell\n",
    "\n",
    "from keras.applications import ResNet50\n",
    "from keras.callbacks import EarlyStopping, ModelCheckpoint\n",
    "from keras.layers import Dense, Input\n",
    "from keras.layers import GlobalAveragePooling2D, TimeDistributed\n",
    "from keras.layers.recurrent import RNN\n",
    "from keras.models import Sequential, Model\n",
    "from keras.initializers import Constant\n",
    "from keras.utils import multi_gpu_model, to_categorical"
   ]
  },
  {
   "cell_type": "code",
   "execution_count": 68,
   "metadata": {},
   "outputs": [],
   "source": [
    "def lmu_layer(return_sequences=False,**kwargs):\n",
    "    return RNN(LMUCell(units=6,\n",
    "                       order=6,\n",
    "                       theta=30,\n",
    "                       input_encoders_initializer=Constant(1),\n",
    "                       hidden_encoders_initializer=Constant(0),\n",
    "                       memory_encoders_initializer=Constant(0),\n",
    "                       input_kernel_initializer=Constant(0),\n",
    "                       hidden_kernel_initializer=Constant(0),\n",
    "                       memory_kernel_initializer='glorot_normal',\n",
    "                      ),\n",
    "               return_sequences=return_sequences,\n",
    "               **kwargs)"
   ]
  },
  {
   "cell_type": "code",
   "execution_count": 77,
   "metadata": {},
   "outputs": [],
   "source": [
    "seq_len = 300\n",
    "\n",
    "resnet_model = ResNet50(weights='imagenet', include_top=False, input_shape=(224,224,3))\n",
    "x = resnet_model.output\n",
    "base_out = GlobalAveragePooling2D()(x)\n",
    "base_model = Model(inputs=resnet_model.input, outputs=base_out)\n",
    "\n",
    "input_layer = Input(shape=(seq_len, 224, 224, 3))\n",
    "x = TimeDistributed(base_model)(input_layer)\n",
    "# x = Reshape(target_shape=(seq_len, 2048))(x)\n",
    "x = lmu_layer(return_sequences=False)(x)\n",
    "out = Dense(200)(x)\n",
    "\n",
    "model = Model(inputs=input_layer, outputs=out)"
   ]
  },
  {
   "cell_type": "code",
   "execution_count": 78,
   "metadata": {
    "scrolled": true
   },
   "outputs": [
    {
     "name": "stdout",
     "output_type": "stream",
     "text": [
      "_________________________________________________________________\n",
      "Layer (type)                 Output Shape              Param #   \n",
      "=================================================================\n",
      "input_45 (InputLayer)        (None, 300, 224, 224, 3)  0         \n",
      "_________________________________________________________________\n",
      "time_distributed_3 (TimeDist (None, 300, 2048)         23587712  \n",
      "_________________________________________________________________\n",
      "rnn_21 (RNN)                 (None, 6)                 14462     \n",
      "_________________________________________________________________\n",
      "dense_17 (Dense)             (None, 200)               1400      \n",
      "=================================================================\n",
      "Total params: 23,603,574\n",
      "Trainable params: 23,550,412\n",
      "Non-trainable params: 53,162\n",
      "_________________________________________________________________\n"
     ]
    }
   ],
   "source": [
    "model.summary()"
   ]
  }
 ],
 "metadata": {
  "kernelspec": {
   "display_name": "Python 3",
   "language": "python",
   "name": "python3"
  },
  "language_info": {
   "codemirror_mode": {
    "name": "ipython",
    "version": 3
   },
   "file_extension": ".py",
   "mimetype": "text/x-python",
   "name": "python",
   "nbconvert_exporter": "python",
   "pygments_lexer": "ipython3",
   "version": "3.6.7"
  }
 },
 "nbformat": 4,
 "nbformat_minor": 2
}
