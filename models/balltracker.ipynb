{
 "cells": [
  {
   "cell_type": "code",
   "execution_count": 1,
   "metadata": {},
   "outputs": [],
   "source": [
    "%matplotlib inline"
   ]
  },
  {
   "cell_type": "code",
   "execution_count": 2,
   "metadata": {},
   "outputs": [],
   "source": [
    "import os\n",
    "import sys"
   ]
  },
  {
   "cell_type": "code",
   "execution_count": 3,
   "metadata": {},
   "outputs": [],
   "source": [
    "lmu_path = os.path.abspath(\"../lmu\")\n",
    "sys.path.append(lmu_path)\n"
   ]
  },
  {
   "cell_type": "code",
   "execution_count": 9,
   "metadata": {},
   "outputs": [],
   "source": [
    "from lmu import LMUCell\n",
    "\n",
    "from keras.applications import ResNet50\n",
    "from keras.callbacks import EarlyStopping, ModelCheckpoint\n",
    "from keras.layers import Dense, Input, GlobalAveragePooling2D, Conv2DTranspose, Reshape\n",
    "from keras.layers import TimeDistributed\n",
    "from keras.layers.recurrent import RNN\n",
    "from keras.models import Sequential, Model\n",
    "from keras.initializers import Constant\n",
    "from keras.utils import multi_gpu_model, to_categorical"
   ]
  },
  {
   "cell_type": "code",
   "execution_count": 5,
   "metadata": {},
   "outputs": [],
   "source": [
    "def lmu_layer(return_sequences=False,**kwargs):\n",
    "    return RNN(LMUCell(units=6,\n",
    "                       order=6,\n",
    "                       theta=30,\n",
    "                       input_encoders_initializer=Constant(1),\n",
    "                       hidden_encoders_initializer=Constant(0),\n",
    "                       memory_encoders_initializer=Constant(0),\n",
    "                       input_kernel_initializer=Constant(0),\n",
    "                       hidden_kernel_initializer=Constant(0),\n",
    "                       memory_kernel_initializer='glorot_normal',\n",
    "                      ),\n",
    "               return_sequences=return_sequences,\n",
    "               **kwargs)"
   ]
  },
  {
   "cell_type": "code",
   "execution_count": 33,
   "metadata": {},
   "outputs": [
    {
     "name": "stderr",
     "output_type": "stream",
     "text": [
      "C:\\ProgramData\\Anaconda3\\lib\\site-packages\\keras_applications\\resnet50.py:265: UserWarning: The output shape of `ResNet50(include_top=False)` has been changed since Keras 2.2.0.\n",
      "  warnings.warn('The output shape of `ResNet50(include_top=False)` '\n"
     ]
    }
   ],
   "source": [
    "seq_len = 300\n",
    "\n",
    "resnet_model = ResNet50(weights='imagenet', include_top=False, input_shape=(224,224,3))\n",
    "\n",
    "for layer in resnet_model.layers:\n",
    "    layer.trainable=False\n",
    "    \n",
    "x = resnet_model.output\n",
    "base_out = GlobalAveragePooling2D()(x)\n",
    "base_model = Model(inputs=resnet_model.input, outputs=base_out)\n",
    "\n",
    "input_layer = Input(shape=(seq_len, 224, 224, 3))\n",
    "x = TimeDistributed(base_model)(input_layer)\n",
    "# x = Reshape(target_shape=(seq_len, 2048))(x)\n",
    "x = lmu_layer(return_sequences=False)(x)\n",
    "out = Dense(1960)(x)\n",
    "\n",
    "v = Dense(2)(out)\n",
    "\n",
    "deconv_shape = (None, 14, 14, 10)\n",
    "heat = Reshape(deconv_shape[1:])(out)\n",
    "heat = Conv2DTranspose(filters=10,kernel_size=3,strides=2,activation='relu', padding = 'same')(heat)\n",
    "heat = Conv2DTranspose(filters=5,kernel_size=3,strides=2,activation='relu', padding = 'same')(heat)\n",
    "heat = Conv2DTranspose(filters=2,kernel_size=3,strides=2,activation='relu', padding = 'same')(heat)\n",
    "heat = Conv2DTranspose(filters=1,kernel_size=3,strides=2,activation='relu', padding = 'same')(heat)\n",
    "model = Model(inputs=input_layer, outputs=[heat,v])"
   ]
  },
  {
   "cell_type": "code",
   "execution_count": 34,
   "metadata": {
    "scrolled": true
   },
   "outputs": [
    {
     "name": "stdout",
     "output_type": "stream",
     "text": [
      "__________________________________________________________________________________________________\n",
      "Layer (type)                    Output Shape         Param #     Connected to                     \n",
      "==================================================================================================\n",
      "input_34 (InputLayer)           (None, 300, 224, 224 0                                            \n",
      "__________________________________________________________________________________________________\n",
      "time_distributed_17 (TimeDistri (None, 300, 2048)    23587712    input_34[0][0]                   \n",
      "__________________________________________________________________________________________________\n",
      "rnn_17 (RNN)                    (None, 6)            14462       time_distributed_17[0][0]        \n",
      "__________________________________________________________________________________________________\n",
      "dense_20 (Dense)                (None, 1960)         13720       rnn_17[0][0]                     \n",
      "__________________________________________________________________________________________________\n",
      "reshape_16 (Reshape)            (None, 14, 14, 10)   0           dense_20[0][0]                   \n",
      "__________________________________________________________________________________________________\n",
      "conv2d_transpose_48 (Conv2DTran (None, 28, 28, 10)   910         reshape_16[0][0]                 \n",
      "__________________________________________________________________________________________________\n",
      "conv2d_transpose_49 (Conv2DTran (None, 56, 56, 5)    455         conv2d_transpose_48[0][0]        \n",
      "__________________________________________________________________________________________________\n",
      "conv2d_transpose_50 (Conv2DTran (None, 112, 112, 2)  92          conv2d_transpose_49[0][0]        \n",
      "__________________________________________________________________________________________________\n",
      "conv2d_transpose_51 (Conv2DTran (None, 224, 224, 1)  19          conv2d_transpose_50[0][0]        \n",
      "__________________________________________________________________________________________________\n",
      "dense_21 (Dense)                (None, 2)            3922        dense_20[0][0]                   \n",
      "==================================================================================================\n",
      "Total params: 23,621,292\n",
      "Trainable params: 33,538\n",
      "Non-trainable params: 23,587,754\n",
      "__________________________________________________________________________________________________\n"
     ]
    }
   ],
   "source": [
    "model.summary()"
   ]
  }
 ],
 "metadata": {
  "kernelspec": {
   "display_name": "Python 3",
   "language": "python",
   "name": "python3"
  },
  "language_info": {
   "codemirror_mode": {
    "name": "ipython",
    "version": 3
   },
   "file_extension": ".py",
   "mimetype": "text/x-python",
   "name": "python",
   "nbconvert_exporter": "python",
   "pygments_lexer": "ipython3",
   "version": "3.6.7"
  }
 },
 "nbformat": 4,
 "nbformat_minor": 2
}
