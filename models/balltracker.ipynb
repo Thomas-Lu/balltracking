{
 "cells": [
  {
   "cell_type": "code",
   "execution_count": 1,
   "metadata": {},
   "outputs": [],
   "source": [
    "%matplotlib inline"
   ]
  },
  {
   "cell_type": "code",
   "execution_count": null,
   "metadata": {},
   "outputs": [],
   "source": [
    "import os\n",
    "import sys"
   ]
  },
  {
   "cell_type": "code",
   "execution_count": null,
   "metadata": {},
   "outputs": [],
   "source": [
    "lmu_path = os.path.abspath(\"../lmu\")\n",
    "sys.path.append(lmu_path)\n"
   ]
  },
  {
   "cell_type": "code",
   "execution_count": null,
   "metadata": {},
   "outputs": [
    {
     "name": "stderr",
     "output_type": "stream",
     "text": [
      "Using TensorFlow backend.\n"
     ]
    }
   ],
   "source": [
    "from lmu import LMUCell\n",
    "\n",
    "import keras as K\n",
    "from keras.applications import ResNet50\n",
    "from keras.callbacks import EarlyStopping, ModelCheckpoint\n",
    "from keras.layers import Dense, Input, GlobalAveragePooling2D, Conv2DTranspose, Reshape, Lambda, Conv2D, UpSampling2D\n",
    "from keras.layers import TimeDistributed\n",
    "from keras.layers.recurrent import RNN\n",
    "from keras.models import Sequential, Model\n",
    "from keras.initializers import Constant\n",
    "from keras.utils import multi_gpu_model, to_categorical\n",
    "\n",
    "import numpy as np"
   ]
  },
  {
   "cell_type": "code",
   "execution_count": null,
   "metadata": {},
   "outputs": [],
   "source": [
    "def lmu_layer(return_sequences=False,**kwargs):\n",
    "    return RNN(LMUCell(units=6,\n",
    "                       order=6,\n",
    "                       theta=15,\n",
    "                       input_encoders_initializer=Constant(1),\n",
    "                       hidden_encoders_initializer=Constant(0),\n",
    "                       memory_encoders_initializer=Constant(0),\n",
    "                       input_kernel_initializer=Constant(0),\n",
    "                       hidden_kernel_initializer=Constant(0),\n",
    "                       memory_kernel_initializer='glorot_normal',\n",
    "                      ),\n",
    "               return_sequences=return_sequences,\n",
    "               **kwargs)\n",
    "\n",
    "def Lmu_stack(input_tensor, return_sequences):\n",
    "    t1 = []\n",
    "    t2 = []\n",
    "    shape = K.backend.int_shape(input_tensor)\n",
    "    input_tensor = Reshape([shape[1], -1, shape[-1]])(input_tensor)\n",
    "    for i in range(shape[-1]):\n",
    "        x = Lambda(lambda x: x[...,i])(input_tensor)\n",
    "        x = lmu_layer(return_sequences=return_sequences)(x)\n",
    "        t1.append(Dense(1)(x))\n",
    "        t2.append(Dense(49)(x))\n",
    "    return [Lambda(lambda x: K.backend.stack(x, axis=-1))(t1), Lambda(lambda x: K.backend.stack(x, axis=-1))(t2)]\n",
    "\n",
    "def velocity_layer(t):\n",
    "    t = TimeDistributed(Reshape([-1]))(t)\n",
    "    return TimeDistributed(Dense(2))(t)\n",
    "\n",
    "def deconvolution_layer(t):\n",
    "    heat = TimeDistributed(Reshape([7,7,-1]))(t)\n",
    "    heat = TimeDistributed(Conv2DTranspose(filters=32,kernel_size=3,strides=2, dilation_rate=1,activation='relu', padding='same'))(heat)\n",
    "    heat = TimeDistributed(UpSampling2D( interpolation='bilinear'))(heat)\n",
    "    heat = TimeDistributed(Conv2DTranspose(filters=8,kernel_size=3,strides=2, dilation_rate=1,activation='relu', padding='same'))(heat)\n",
    "    heat = TimeDistributed(UpSampling2D( interpolation='bilinear'))(heat)\n",
    "    heat = TimeDistributed(Conv2DTranspose(filters=1,kernel_size=3,strides=2, dilation_rate=1,activation='relu', padding='same'))(heat)\n",
    "    return heat"
   ]
  },
  {
   "cell_type": "code",
   "execution_count": null,
   "metadata": {},
   "outputs": [
    {
     "name": "stderr",
     "output_type": "stream",
     "text": [
      "C:\\ProgramData\\Anaconda3\\lib\\site-packages\\keras_applications\\resnet50.py:265: UserWarning: The output shape of `ResNet50(include_top=False)` has been changed since Keras 2.2.0.\n",
      "  warnings.warn('The output shape of `ResNet50(include_top=False)` '\n"
     ]
    }
   ],
   "source": [
    "seq_len = 15\n",
    "\n",
    "resnet_model = ResNet50(weights='imagenet', include_top=False, input_shape=(224,224,3))\n",
    "\n",
    "for layer in resnet_model.layers:\n",
    "    layer.trainable=False\n",
    "    \n",
    "# base_out = resnet_model.output\n",
    "# base_out = Conv2D(kernel_size=1, filters=64)(base_out)\n",
    "# base_model = Model(inputs=resnet_model.input, outputs=base_out)\n",
    "\n",
    "input_layer = Input(shape=(seq_len, 224, 224, 3))\n",
    "\n",
    "# x = TimeDistributed(base_model)(input_layer)\n",
    "x = TimeDistributed(resnet_model)(input_layer)\n",
    "x = TimeDistributed(Conv2D(kernel_size=1, filters=64))(x) #reduce channels\n",
    "\n",
    "# i = Input(shape=(seq_len, 7, 7, 64))\n",
    "\n",
    "# x = Reshape(target_shape=(seq_len, 2048))(x)\n",
    "out1, out2 = Lmu_stack(x, return_sequences=True)\n",
    "\n",
    "# v = Reshape([-1])(out1)\n",
    "# v = Dense(2)(v)\n",
    "\n",
    "\n",
    "# #Deconvolution, this is huge, how to fix?\n",
    "# heat = Reshape([7,7,-1])(out2)\n",
    "# print(heat.shape)\n",
    "# heat = Conv2DTranspose(filters=32,kernel_size=3,strides=2, dilation_rate=1,activation='relu', padding='same')(heat)\n",
    "# heat = UpSampling2D( interpolation='bilinear')(heat)\n",
    "# heat = Conv2DTranspose(filters=8,kernel_size=3,strides=2, dilation_rate=1,activation='relu', padding='same')(heat)\n",
    "# heat = UpSampling2D( interpolation='bilinear')(heat)\n",
    "# heat = Conv2DTranspose(filters=1,kernel_size=3,strides=2, dilation_rate=1,activation='relu', padding='same')(heat)\n",
    "\n",
    "v = velocity_layer(out1)\n",
    "\n",
    "heat = deconvolution_layer(out2)\n",
    "\n",
    "model = Model(inputs=input_layer, outputs=[heat,v])"
   ]
  },
  {
   "cell_type": "code",
   "execution_count": null,
   "metadata": {},
   "outputs": [],
   "source": [
    "(?, 15, 1, 64)\n",
    "(?, 15, 49, 64)"
   ]
  },
  {
   "cell_type": "code",
   "execution_count": null,
   "metadata": {
    "scrolled": true
   },
   "outputs": [],
   "source": [
    "model.summary()"
   ]
  },
  {
   "cell_type": "code",
   "execution_count": null,
   "metadata": {},
   "outputs": [],
   "source": []
  }
 ],
 "metadata": {
  "kernelspec": {
   "display_name": "Python 3",
   "language": "python",
   "name": "python3"
  },
  "language_info": {
   "codemirror_mode": {
    "name": "ipython",
    "version": 3
   },
   "file_extension": ".py",
   "mimetype": "text/x-python",
   "name": "python",
   "nbconvert_exporter": "python",
   "pygments_lexer": "ipython3",
   "version": "3.6.7"
  }
 },
 "nbformat": 4,
 "nbformat_minor": 2
}
